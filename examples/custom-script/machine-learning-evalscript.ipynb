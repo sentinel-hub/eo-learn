{
 "cells": [
  {
   "cell_type": "markdown",
   "metadata": {},
   "source": [
    "# Create and run a Machine Learning model as a custom-script\n",
    "\n",
    "This notebook showcases how to create a Machine Learning (ML) custom-script for water detection. The workflow uses [eo-learn](https://eo-learn.readthedocs.io/en/latest/) to process the data and [LightGBM](https://lightgbm.readthedocs.io/en/latest/) to train a ML model for water classification given Seninel-2 band and index values. The resulting custom-script can be used in [the Sentinel Hub EOBrowser](https://www-test.sentinel-hub.com/explore/eobrowser/), in the [multi-temporal instance of Sentinel Playground](https://apps.sentinel-hub.com/sentinel-playground-temporal/?source=S2&lat=40.4&lng=-3.730000000000018&zoom=12&preset=1-NATURAL-COLOR&layers=B04,B03,B02&maxcc=20&gain=1.0&temporal=true&gamma=1.0&time=2015-01-01%7C2019-10-02&atmFilter=&showDates=false) and as evalscript in the [Sentinel Hub process API](https://docs.sentinel-hub.com/api/latest/api/process/).\n",
    "\n",
    "The workflow is as follows:\n",
    "\n",
    " * download training and testing data\n",
    " * prepare samples for ML algorithm\n",
    " * train ML model\n",
    " * export trained model as custom-script"
   ]
  },
  {
   "cell_type": "code",
   "execution_count": 1,
   "metadata": {},
   "outputs": [],
   "source": [
    "# Jupyter notebook related\n",
    "%reload_ext autoreload\n",
    "%autoreload 2\n",
    "%matplotlib inline\n",
    "\n",
    "# Built-in modules\n",
    "import urllib.request\n",
    "import shutil\n",
    "import zipfile\n",
    "\n",
    "# # Basics of Python data handling and visualization\n",
    "# import numpy as np\n",
    "# np.random.seed(42)\n",
    "import geopandas as gpd\n",
    "# import matplotlib as mpl\n",
    "# import matplotlib.pyplot as plt\n",
    "# import matplotlib.gridspec as gridspec\n",
    "# from matplotlib.colors import ListedColormap, BoundaryNorm\n",
    "# from mpl_toolkits.axes_grid1 import make_axes_locatable\n",
    "# from shapely.geometry import Polygon\n",
    "# from tqdm.auto import tqdm\n",
    "\n",
    "# # Machine learning \n",
    "# import lightgbm as lgb\n",
    "# import joblib\n",
    "# from sklearn import metrics\n",
    "# from sklearn import preprocessing\n",
    "\n",
    "# # Imports from eo-learn and sentinelhub-py\n",
    "# from eolearn.core import EOTask, EOPatch, LinearWorkflow, FeatureType, OverwritePermission, \\\n",
    "#     LoadTask, SaveTask, EOExecutor, ExtractBandsTask, MergeFeatureTask\n",
    "# from eolearn.io import SentinelHubInputTask, ExportToTiff\n",
    "# from eolearn.mask import AddMultiCloudMaskTask, AddValidDataMaskTask\n",
    "# from eolearn.geometry import VectorToRaster, PointSamplingTask, ErosionTask\n",
    "# from eolearn.features import LinearInterpolation, SimpleFilterTask, NormalizedDifferenceIndexTask\n",
    "# from sentinelhub import UtmZoneSplitter, BBox, CRS, DataSource"
   ]
  },
  {
   "cell_type": "markdown",
   "metadata": {},
   "source": [
    "## Download the data\n",
    "\n",
    "* used to improve the blue-bot observatory\n",
    "* collected with the Classification App\n",
    "* available on bucket\n",
    "* info on what they contain"
   ]
  },
  {
   "cell_type": "markdown",
   "metadata": {},
   "source": [
    "Set up url and data paths"
   ]
  },
  {
   "cell_type": "code",
   "execution_count": 2,
   "metadata": {},
   "outputs": [],
   "source": [
    "DATA_URL = 'http://queryplanet.sentinel-hub.com/water-labels'\n",
    "\n",
    "DATA_INFO = f'{DATA_URL}/data-info.geojson'\n",
    "EOP_URL = f'{DATA_URL}/eopatches.zip'\n",
    "\n",
    "EOP_ZIP = './eopatches.zip'\n",
    "EOP_DIR = '.'"
   ]
  },
  {
   "cell_type": "code",
   "execution_count": 3,
   "metadata": {},
   "outputs": [],
   "source": [
    "gdf = gpd.read_file(DATA_INFO)"
   ]
  },
  {
   "cell_type": "code",
   "execution_count": 4,
   "metadata": {},
   "outputs": [
    {
     "data": {
      "text/html": [
       "<div>\n",
       "<style scoped>\n",
       "    .dataframe tbody tr th:only-of-type {\n",
       "        vertical-align: middle;\n",
       "    }\n",
       "\n",
       "    .dataframe tbody tr th {\n",
       "        vertical-align: top;\n",
       "    }\n",
       "\n",
       "    .dataframe thead th {\n",
       "        text-align: right;\n",
       "    }\n",
       "</style>\n",
       "<table border=\"1\" class=\"dataframe\">\n",
       "  <thead>\n",
       "    <tr style=\"text-align: right;\">\n",
       "      <th></th>\n",
       "      <th>has_DEM</th>\n",
       "      <th>has_S1_ASC</th>\n",
       "      <th>has_S1_DES</th>\n",
       "      <th>has_S2</th>\n",
       "      <th>task_id</th>\n",
       "      <th>timestamp</th>\n",
       "      <th>window_height</th>\n",
       "      <th>window_width</th>\n",
       "      <th>geometry</th>\n",
       "    </tr>\n",
       "  </thead>\n",
       "  <tbody>\n",
       "    <tr>\n",
       "      <th>0</th>\n",
       "      <td>1</td>\n",
       "      <td>0</td>\n",
       "      <td>0</td>\n",
       "      <td>1</td>\n",
       "      <td>6b73fd74a2eb11e994fbf0db728b8d14</td>\n",
       "      <td>2016-09-26</td>\n",
       "      <td>64</td>\n",
       "      <td>64</td>\n",
       "      <td>POLYGON ((65.84065 52.68916, 65.84065 52.69491...</td>\n",
       "    </tr>\n",
       "    <tr>\n",
       "      <th>1</th>\n",
       "      <td>1</td>\n",
       "      <td>0</td>\n",
       "      <td>1</td>\n",
       "      <td>1</td>\n",
       "      <td>0a27f4aea2eb11e9bfdaa9140581204c</td>\n",
       "      <td>2017-08-12</td>\n",
       "      <td>64</td>\n",
       "      <td>64</td>\n",
       "      <td>POLYGON ((64.47018 50.95125, 64.47018 50.95701...</td>\n",
       "    </tr>\n",
       "    <tr>\n",
       "      <th>2</th>\n",
       "      <td>1</td>\n",
       "      <td>1</td>\n",
       "      <td>1</td>\n",
       "      <td>1</td>\n",
       "      <td>9b60193ea24111e98d7d929084d604de</td>\n",
       "      <td>2019-03-23</td>\n",
       "      <td>64</td>\n",
       "      <td>64</td>\n",
       "      <td>POLYGON ((31.15408 38.61106, 31.15408 38.61600...</td>\n",
       "    </tr>\n",
       "    <tr>\n",
       "      <th>3</th>\n",
       "      <td>1</td>\n",
       "      <td>1</td>\n",
       "      <td>1</td>\n",
       "      <td>1</td>\n",
       "      <td>9afaabaea24111e983d185262381d01a</td>\n",
       "      <td>2018-05-31</td>\n",
       "      <td>64</td>\n",
       "      <td>64</td>\n",
       "      <td>POLYGON ((-1.60285 38.21084, -1.60285 38.21558...</td>\n",
       "    </tr>\n",
       "    <tr>\n",
       "      <th>4</th>\n",
       "      <td>1</td>\n",
       "      <td>0</td>\n",
       "      <td>1</td>\n",
       "      <td>1</td>\n",
       "      <td>9dfb5254a24111e9a087737fe71fcff1</td>\n",
       "      <td>2018-05-27</td>\n",
       "      <td>64</td>\n",
       "      <td>64</td>\n",
       "      <td>POLYGON ((48.22342 48.99523, 48.22342 49.00099...</td>\n",
       "    </tr>\n",
       "  </tbody>\n",
       "</table>\n",
       "</div>"
      ],
      "text/plain": [
       "   has_DEM  has_S1_ASC  has_S1_DES  has_S2                           task_id  \\\n",
       "0        1           0           0       1  6b73fd74a2eb11e994fbf0db728b8d14   \n",
       "1        1           0           1       1  0a27f4aea2eb11e9bfdaa9140581204c   \n",
       "2        1           1           1       1  9b60193ea24111e98d7d929084d604de   \n",
       "3        1           1           1       1  9afaabaea24111e983d185262381d01a   \n",
       "4        1           0           1       1  9dfb5254a24111e9a087737fe71fcff1   \n",
       "\n",
       "    timestamp  window_height  window_width  \\\n",
       "0  2016-09-26             64            64   \n",
       "1  2017-08-12             64            64   \n",
       "2  2019-03-23             64            64   \n",
       "3  2018-05-31             64            64   \n",
       "4  2018-05-27             64            64   \n",
       "\n",
       "                                            geometry  \n",
       "0  POLYGON ((65.84065 52.68916, 65.84065 52.69491...  \n",
       "1  POLYGON ((64.47018 50.95125, 64.47018 50.95701...  \n",
       "2  POLYGON ((31.15408 38.61106, 31.15408 38.61600...  \n",
       "3  POLYGON ((-1.60285 38.21084, -1.60285 38.21558...  \n",
       "4  POLYGON ((48.22342 48.99523, 48.22342 49.00099...  "
      ]
     },
     "execution_count": 4,
     "metadata": {},
     "output_type": "execute_result"
    }
   ],
   "source": [
    "gdf.head()"
   ]
  },
  {
   "cell_type": "code",
   "execution_count": 5,
   "metadata": {},
   "outputs": [
    {
     "data": {
      "text/plain": [
       "(7671, 7671)"
      ]
     },
     "execution_count": 5,
     "metadata": {},
     "output_type": "execute_result"
    }
   ],
   "source": [
    "len(gdf), len(gdf[gdf.has_S2==1])"
   ]
  },
  {
   "cell_type": "markdown",
   "metadata": {},
   "source": [
    "### Download and unzip file with eopatches"
   ]
  },
  {
   "cell_type": "code",
   "execution_count": 6,
   "metadata": {},
   "outputs": [],
   "source": [
    "print(f'Downloading {EOP_URL} to {EOP_ZIP}..')\n",
    "with urllib.request.urlopen(EOP_URL) as response, open(EOP_ZIP, 'wb') as zip_file:\n",
    "    shutil.copyfileobj(response, zip_file)\n",
    "    \n",
    "print(f'Unzipping {EOP_ZIP} to {EOP_DIR}..')\n",
    "with zipfile.ZipFile(EOP_ZIP, 'r') as zip_file:\n",
    "    zip_file.extractall(EOP_DIR)"
   ]
  },
  {
   "cell_type": "code",
   "execution_count": 13,
   "metadata": {},
   "outputs": [
    {
     "name": "stdout",
     "output_type": "stream",
     "text": [
      "7672\r\n"
     ]
    }
   ],
   "source": [
    "ls -lth {EOP_DIR}/eopatches | wc -l "
   ]
  },
  {
   "cell_type": "markdown",
   "metadata": {},
   "source": [
    "## Set-up and run feature processing workflow with `eo-learn`\n",
    "\n",
    "* load eopatches\n",
    "* keep only B02, B03 and B04\n",
    "* add NDWI, NDMI and NDBSI ?\n",
    "* sample pixels\n",
    "* save sampled arrays only"
   ]
  },
  {
   "cell_type": "code",
   "execution_count": null,
   "metadata": {},
   "outputs": [],
   "source": []
  },
  {
   "cell_type": "markdown",
   "metadata": {},
   "source": [
    "## Create train/cval/test sets"
   ]
  },
  {
   "cell_type": "code",
   "execution_count": null,
   "metadata": {},
   "outputs": [],
   "source": [
    "index_sets = []\n",
    "# loop over unique time-stamps\n",
    "for timestamp in gpdf['timestamp'].unique():\n",
    "    # get geometries with same time-stamp\n",
    "    centroids = gpdf[gpdf['timestamp']==timestamp].geometry.centroid\n",
    "    indices = centroids.keys()\n",
    "    \n",
    "    # compute centroids\n",
    "    centroids = np.array([np.array(centroid) for centroid in centroids])\n",
    "    ctr_mean = np.mean(centroids, axis=0)\n",
    "    ctr_std = np.std(centroids, axis=0)\n",
    "    \n",
    "    # if centroids are close together, put them in same set\n",
    "    if all(pt<1 for pt in ctr_std):\n",
    "        index_sets.append(indices)\n",
    "        continue\n",
    "    \n",
    "    # sort geometries and put geometries together if centroids are within 1degree\n",
    "    sorted_indices = np.argsort(centroids, axis=0)\n",
    "    coord_diff = np.diff(centroids[sorted_indices[:, 0]], axis=0)\n",
    "    diff_norm = np.linalg.norm(coord_diff, axis=-1)\n",
    "    index_breaks, = np.where(diff_norm>1)\n",
    "    for nib, ib in enumerate(index_breaks):\n",
    "        ileft = int(0) if nib == 0 else int(index_breaks[nib-1])\n",
    "        iright = int(ib+1)\n",
    "        index_sets.append(indices[sorted_indices[:, 0]][ileft:iright])\n",
    "    index_sets.append(indices[sorted_indices[:, 0]][iright:])\n",
    "    \n",
    "np.random.seed(42)\n",
    "train_ratio = .8\n",
    "train_ids = set(np.where(np.random.rand(len(index_sets))<=train_ratio)[0])\n",
    "test_ids = set(np.arange(len(index_sets))) - train_ids"
   ]
  },
  {
   "cell_type": "markdown",
   "metadata": {},
   "source": [
    "## Train and evaluate model "
   ]
  },
  {
   "cell_type": "code",
   "execution_count": null,
   "metadata": {},
   "outputs": [],
   "source": []
  },
  {
   "cell_type": "markdown",
   "metadata": {},
   "source": [
    "## Convert model to evalscript"
   ]
  },
  {
   "cell_type": "code",
   "execution_count": null,
   "metadata": {},
   "outputs": [],
   "source": []
  },
  {
   "cell_type": "markdown",
   "metadata": {},
   "source": [
    "## Test evalscript"
   ]
  },
  {
   "cell_type": "code",
   "execution_count": null,
   "metadata": {},
   "outputs": [],
   "source": []
  }
 ],
 "metadata": {
  "kernelspec": {
   "display_name": "Python 3",
   "language": "python",
   "name": "python3"
  },
  "language_info": {
   "codemirror_mode": {
    "name": "ipython",
    "version": 3
   },
   "file_extension": ".py",
   "mimetype": "text/x-python",
   "name": "python",
   "nbconvert_exporter": "python",
   "pygments_lexer": "ipython3",
   "version": "3.6.0"
  }
 },
 "nbformat": 4,
 "nbformat_minor": 4
}
