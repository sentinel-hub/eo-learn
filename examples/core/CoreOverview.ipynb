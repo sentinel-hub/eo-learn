{
 "cells": [
  {
   "cell_type": "markdown",
   "metadata": {},
   "source": [
    "# Overview of `eolearn.core`\n",
    "\n",
    "`eolearn.core` is the main subpackage which implements basic building blocks (`EOPatch`, `EOTask` and `EOWorkflow`) and commonly used functionalities."
   ]
  },
  {
   "cell_type": "markdown",
   "metadata": {},
   "source": [
    "## EOPatch"
   ]
  },
  {
   "cell_type": "markdown",
   "metadata": {},
   "source": [
    "EOPatch is common data-object that contains contains multi-temporal remotely sensed data of a single patch (area) of Earth’s surface typically defined by a bounding box in specific coordinate reference system.\n",
    "\n",
    "There’s no limitation on the amount of data, or the type of data that can be stored. But typically, all of the information is internally stored in form of NumPy arrays as the following features:\n",
    "\n",
    "- DATA with shape `t x n x m x d`: Time- and position-dependent remote sensing data (e.g. bands) of float type.\n",
    "- MASK with shape `t x n x m x d`: Time- and position-dependent mask (e.g. ground truth, cloud/shadow mask, super pixel identifier) of integer or boolean type.\n",
    "- SCALAR with shape `t x d`: Time-dependent and position-independent remote sensing data (e.g. weather data,) of float type.\n",
    "- LABEL with shape `t x d`: Time-dependent and position-independent label (e.g. ground truth) of integer or boolean type.\n",
    "- VECTOR: A collection of time-dependent geometry objects stored as a `geopandas.GeoDataFrame` with geometry and `TIMESTAMP` columns.\n",
    "- DATA_TIMELESS with shape `n x m x d`: Time-independent and position-dependent remote sensing data (e.g. elevation model) of float type.\n",
    "- MASK_TIMELESS with shape `n x m x d`: Time-independent and position-dependent mask (e.g. ground truth, region of interest mask) of integer or boolean type.\n",
    "- SCALAR_TIMELESS with shape `d`:  Time-independent and position-independent remote sensing data of float type.\n",
    "- LABEL_TIMELESS with shape `d`: Time-independent and position-independent label of integer or boolean type.\n",
    "- VECTOR_TIMELESS: A collection of time-dependent geometry objects stored as a `geopandas.GeoDataFrame` with geometry column.\n",
    "- META_INFO: A dictionary of additional metadata information (e.g. resolution, time difference).\n",
    "- BBOX: A bounding box of the patch which is an instance of `sentinelhub.BBox`. It holds information about coordinates and CRS.\n",
    "- TIMESTAMP: A list of dates of size `t` which are instances of `datetime.datetime` or `datetime.date`.\n",
    "\n",
    "Note: `t` specifies time component, `n` and `m` are spatical components (number of rows and columns), and `d` is an additional component for data with multiple channels."
   ]
  },
  {
   "cell_type": "markdown",
   "metadata": {},
   "source": [
    "Create an empty patch"
   ]
  },
  {
   "cell_type": "code",
   "execution_count": 1,
   "metadata": {},
   "outputs": [],
   "source": [
    "from eolearn.core import EOPatch\n",
    "\n",
    "patch = EOPatch()"
   ]
  },
  {
   "cell_type": "markdown",
   "metadata": {},
   "source": [
    "Set a feature to EOPatch. Each feature has to belong to one of the feature types listed above."
   ]
  },
  {
   "cell_type": "code",
   "execution_count": 2,
   "metadata": {},
   "outputs": [],
   "source": [
    "import numpy as np\n",
    "import datetime as dt\n",
    "\n",
    "from eolearn.core import FeatureType\n",
    "\n",
    "new_bands = np.zeros((5, 10, 10, 13), dtype=np.float32)\n",
    "\n",
    "patch[FeatureType.DATA]['bands'] = new_bands\n",
    "# or patch.data['bands'] = new_bands"
   ]
  },
  {
   "cell_type": "markdown",
   "metadata": {},
   "source": [
    "As the `FeatureType.DATA` represents temporal data, let's add some timestamps to the `EOPatch` as well:"
   ]
  },
  {
   "cell_type": "code",
   "execution_count": 3,
   "metadata": {},
   "outputs": [],
   "source": [
    "patch.timestamp = [dt.date(2021,12,day) for day in range(1,6)]"
   ]
  },
  {
   "cell_type": "markdown",
   "metadata": {},
   "source": [
    "Check current content of `EOPatch` with it's string representation."
   ]
  },
  {
   "cell_type": "code",
   "execution_count": 4,
   "metadata": {},
   "outputs": [
    {
     "data": {
      "text/plain": [
       "EOPatch(\n",
       "  data: {\n",
       "    bands: numpy.ndarray(shape=(5, 10, 10, 13), dtype=float32)\n",
       "  }\n",
       "  mask: {}\n",
       "  scalar: {}\n",
       "  label: {}\n",
       "  vector: {}\n",
       "  data_timeless: {}\n",
       "  mask_timeless: {}\n",
       "  scalar_timeless: {}\n",
       "  label_timeless: {}\n",
       "  vector_timeless: {}\n",
       "  meta_info: {}\n",
       "  bbox: None\n",
       "  timestamp: [datetime.date(2021, 12, 1), ..., datetime.date(2021, 12, 5)], length=5\n",
       ")"
      ]
     },
     "execution_count": 4,
     "metadata": {},
     "output_type": "execute_result"
    }
   ],
   "source": [
    "patch"
   ]
  },
  {
   "cell_type": "markdown",
   "metadata": {},
   "source": [
    "Get all non-empty features of EOPatch"
   ]
  },
  {
   "cell_type": "code",
   "execution_count": 5,
   "metadata": {},
   "outputs": [
    {
     "data": {
      "text/plain": [
       "{<FeatureType.DATA: 'data'>: {'bands'},\n",
       " <FeatureType.TIMESTAMP: 'timestamp'>: True}"
      ]
     },
     "execution_count": 5,
     "metadata": {},
     "output_type": "execute_result"
    }
   ],
   "source": [
    "patch.get_features()"
   ]
  },
  {
   "cell_type": "markdown",
   "metadata": {},
   "source": [
    "Get a feature from EOPatch"
   ]
  },
  {
   "cell_type": "code",
   "execution_count": 6,
   "metadata": {},
   "outputs": [],
   "source": [
    "data = patch[FeatureType.DATA]['bands']\n",
    "# or patch.data['bands']"
   ]
  },
  {
   "cell_type": "markdown",
   "metadata": {},
   "source": [
    "Save EOPatch to local folder. In case `EOPatch` would already exist in the specified location we are also giving a permission to overwrite its features."
   ]
  },
  {
   "cell_type": "code",
   "execution_count": 7,
   "metadata": {},
   "outputs": [],
   "source": [
    "from eolearn.core import OverwritePermission\n",
    "\n",
    "patch.save('./example_patch', overwrite_permission=OverwritePermission.OVERWRITE_FEATURES)"
   ]
  },
  {
   "cell_type": "markdown",
   "metadata": {},
   "source": [
    "Load EOPatch from the same folder"
   ]
  },
  {
   "cell_type": "code",
   "execution_count": 8,
   "metadata": {},
   "outputs": [],
   "source": [
    "patch2 = EOPatch.load('./example_patch')"
   ]
  },
  {
   "cell_type": "markdown",
   "metadata": {},
   "source": [
    "Compare EOPatches"
   ]
  },
  {
   "cell_type": "code",
   "execution_count": 9,
   "metadata": {},
   "outputs": [
    {
     "data": {
      "text/plain": [
       "True"
      ]
     },
     "execution_count": 9,
     "metadata": {},
     "output_type": "execute_result"
    }
   ],
   "source": [
    "patch == patch2"
   ]
  },
  {
   "cell_type": "markdown",
   "metadata": {},
   "source": [
    "Remove a feature from EOPatch"
   ]
  },
  {
   "cell_type": "code",
   "execution_count": 10,
   "metadata": {},
   "outputs": [],
   "source": [
    "del patch2[FeatureType.DATA]['bands']\n",
    "# or del patch.data['bands']"
   ]
  },
  {
   "cell_type": "markdown",
   "metadata": {},
   "source": [
    "Make a shallow and deep copy of EOPatch. Shallow copy will copy only a reference to data but not the data itself."
   ]
  },
  {
   "cell_type": "code",
   "execution_count": 11,
   "metadata": {},
   "outputs": [
    {
     "data": {
      "text/plain": [
       "(True, False)"
      ]
     },
     "execution_count": 11,
     "metadata": {},
     "output_type": "execute_result"
    }
   ],
   "source": [
    "patch1 = patch.__copy__()\n",
    "patch2 = patch.__deepcopy__()\n",
    "\n",
    "patch.data['bands'] += 1\n",
    "\n",
    "patch == patch1, patch == patch2"
   ]
  },
  {
   "cell_type": "code",
   "execution_count": 12,
   "metadata": {},
   "outputs": [],
   "source": [
    "patch2[FeatureType.DATA]['bands2'] = new_bands"
   ]
  },
  {
   "cell_type": "markdown",
   "metadata": {},
   "source": [
    "Merge two EOPatches: if the data for same timestamp is available in both, calculate `mean` "
   ]
  },
  {
   "cell_type": "code",
   "execution_count": 13,
   "metadata": {},
   "outputs": [],
   "source": [
    "merged = patch.merge(patch2, time_dependent_op='mean')"
   ]
  },
  {
   "cell_type": "code",
   "execution_count": 14,
   "metadata": {},
   "outputs": [
    {
     "data": {
      "text/plain": [
       "EOPatch(\n",
       "  data: {\n",
       "    bands: numpy.ndarray(shape=(5, 10, 10, 13), dtype=float32)\n",
       "    bands2: numpy.ndarray(shape=(5, 10, 10, 13), dtype=float32)\n",
       "  }\n",
       "  mask: {}\n",
       "  scalar: {}\n",
       "  label: {}\n",
       "  vector: {}\n",
       "  data_timeless: {}\n",
       "  mask_timeless: {}\n",
       "  scalar_timeless: {}\n",
       "  label_timeless: {}\n",
       "  vector_timeless: {}\n",
       "  meta_info: {}\n",
       "  bbox: None\n",
       "  timestamp: [datetime.date(2021, 12, 1), ..., datetime.date(2021, 12, 5)], length=5\n",
       ")"
      ]
     },
     "execution_count": 14,
     "metadata": {},
     "output_type": "execute_result"
    }
   ],
   "source": [
    "merged"
   ]
  },
  {
   "cell_type": "markdown",
   "metadata": {},
   "source": [
    "## EOTask\n",
    "\n",
    "An EO task is any class the inherits from the abstract `EOTask` class. Each EO task has to implement the execute method; invoking __call__ on a EO task instance invokes the execute method. EO tasks are meant primarily to operate on EO patches (i.e. instances of EOPatch)."
   ]
  },
  {
   "cell_type": "markdown",
   "metadata": {},
   "source": [
    "Add a feature using the EOTask"
   ]
  },
  {
   "cell_type": "code",
   "execution_count": 15,
   "metadata": {},
   "outputs": [
    {
     "data": {
      "text/plain": [
       "EOPatch(\n",
       "  data: {\n",
       "    bands: numpy.ndarray(shape=(5, 100, 100, 13), dtype=float64)\n",
       "  }\n",
       "  mask: {}\n",
       "  scalar: {}\n",
       "  label: {}\n",
       "  vector: {}\n",
       "  data_timeless: {}\n",
       "  mask_timeless: {}\n",
       "  scalar_timeless: {}\n",
       "  label_timeless: {}\n",
       "  vector_timeless: {}\n",
       "  meta_info: {}\n",
       "  bbox: None\n",
       "  timestamp: []\n",
       ")"
      ]
     },
     "execution_count": 15,
     "metadata": {},
     "output_type": "execute_result"
    }
   ],
   "source": [
    "from eolearn.core import AddFeatureTask  # AddFeatureTask is a simple EOTask which adds a feature to a given EOPatch\n",
    "\n",
    "patch = EOPatch()\n",
    "\n",
    "feature = (FeatureType.DATA, 'bands')\n",
    "add_feature = AddFeatureTask(feature)\n",
    "\n",
    "data = np.zeros((5, 100, 100, 13))\n",
    "patch = add_feature.execute(patch, data)\n",
    "# or patch = add_feature(patch, data)\n",
    "\n",
    "patch"
   ]
  },
  {
   "cell_type": "markdown",
   "metadata": {},
   "source": [
    "If a task doesn’t exist yet, the user can implement it and easily include it into his/hers workflow. There is very little or almost no overhead in the implementation of a new EOTask as seen from this minimal example"
   ]
  },
  {
   "cell_type": "code",
   "execution_count": 16,
   "metadata": {},
   "outputs": [],
   "source": [
    "from eolearn.core import EOTask\n",
    "\n",
    "class FooTask(EOTask):\n",
    "    def __init__(self, foo_param):\n",
    "        self.foo_param = foo_param\n",
    "\n",
    "    def execute(self, eopatch, *, patch_specific_param=None):\n",
    "        # do what foo does on input eopatch and return it\n",
    "        return eopatch"
   ]
  },
  {
   "cell_type": "markdown",
   "metadata": {},
   "source": [
    "EOTask’s arguments are either static (set when EOTask is initialized; i.e.e foo_param above) or dynamic (set during the execution of the workflow; i.e. patch_specific_param above)."
   ]
  },
  {
   "cell_type": "markdown",
   "metadata": {},
   "source": [
    "The list of all EOTasks in the `eolearn.core` subpackage is available here https://eo-learn.readthedocs.io/en/latest/eotasks.html#core"
   ]
  },
  {
   "cell_type": "markdown",
   "metadata": {},
   "source": [
    "## EOWorkflow\n",
    "\n",
    "A workflow is a directed (acyclic) graph composed of instances of EOTask objects. Each task may take as input the results of other tasks and external arguments. The external arguments are passed anew each time the workflow is executed. The workflow builds the computational graph, performs dependency resolution, and executes the tasks. If the input graph is cyclic, the workflow raises a CyclicDependencyError.\n",
    "\n",
    "The result of a workflow execution is an immutable mapping from tasks to results. The result contains tasks with zero out-degree (i.e. terminal tasks)."
   ]
  },
  {
   "cell_type": "markdown",
   "metadata": {},
   "source": [
    "Add some tasks"
   ]
  },
  {
   "cell_type": "code",
   "execution_count": 17,
   "metadata": {},
   "outputs": [],
   "source": [
    "from eolearn.core import CopyTask, RenameFeatureTask\n",
    "\n",
    "copy_task = CopyTask()\n",
    "rename_feature = RenameFeatureTask((FeatureType.DATA, 'bands', 'the_bands'))"
   ]
  },
  {
   "cell_type": "markdown",
   "metadata": {},
   "source": [
    "Create a workflow"
   ]
  },
  {
   "cell_type": "code",
   "execution_count": 18,
   "metadata": {},
   "outputs": [
    {
     "data": {
      "text/plain": [
       "WorkflowResults(outputs={}, start_time=datetime.datetime(2021, 12, 20, 16, 2, 37, 282875), end_time=datetime.datetime(2021, 12, 20, 16, 2, 37, 293566), stats={'AddFeatureTask-de88ec5c61a511ec82e7-af56a3bcfa0d': TaskStats(start_time=datetime.datetime(2021, 12, 20, 16, 2, 37, 292689), end_time=datetime.datetime(2021, 12, 20, 16, 2, 37, 292744)), 'CopyTask-de8acc6661a511ec8455-7b3329ba39bd': TaskStats(start_time=datetime.datetime(2021, 12, 20, 16, 2, 37, 293075), end_time=datetime.datetime(2021, 12, 20, 16, 2, 37, 293252)), 'RenameFeatureTask-de8ad85061a511ec8484-5aff0f7055ab': TaskStats(start_time=datetime.datetime(2021, 12, 20, 16, 2, 37, 293527), end_time=datetime.datetime(2021, 12, 20, 16, 2, 37, 293551))})"
      ]
     },
     "execution_count": 18,
     "metadata": {},
     "output_type": "execute_result"
    }
   ],
   "source": [
    "from eolearn.core import EOWorkflow\n",
    "\n",
    "workflow = EOWorkflow([\n",
    "    (add_feature, []),\n",
    "    (copy_task, [add_feature]),\n",
    "    (rename_feature, [copy_task])\n",
    "])\n",
    "                                    \n",
    "result = workflow.execute({\n",
    "    add_feature: {'eopatch': patch,\n",
    "                  'data': new_bands}\n",
    "})\n",
    "                                    \n",
    "result"
   ]
  },
  {
   "cell_type": "markdown",
   "metadata": {},
   "source": [
    "Display the dependency graph"
   ]
  },
  {
   "cell_type": "code",
   "execution_count": 23,
   "metadata": {},
   "outputs": [
    {
     "data": {
      "image/svg+xml": [
       "<?xml version=\"1.0\" encoding=\"UTF-8\" standalone=\"no\"?>\n",
       "<!DOCTYPE svg PUBLIC \"-//W3C//DTD SVG 1.1//EN\"\n",
       " \"http://www.w3.org/Graphics/SVG/1.1/DTD/svg11.dtd\">\n",
       "<!-- Generated by graphviz version 2.49.3 (20211023.0002)\n",
       " -->\n",
       "<!-- Pages: 1 -->\n",
       "<svg width=\"487pt\" height=\"44pt\"\n",
       " viewBox=\"0.00 0.00 486.86 44.00\" xmlns=\"http://www.w3.org/2000/svg\" xmlns:xlink=\"http://www.w3.org/1999/xlink\">\n",
       "<g id=\"graph0\" class=\"graph\" transform=\"scale(1 1) rotate(0) translate(4 40)\">\n",
       "<polygon fill=\"white\" stroke=\"transparent\" points=\"-4,4 -4,-40 482.86,-40 482.86,4 -4,4\"/>\n",
       "<!-- AddFeatureTask -->\n",
       "<g id=\"node1\" class=\"node\">\n",
       "<title>AddFeatureTask</title>\n",
       "<ellipse fill=\"none\" stroke=\"black\" cx=\"70.84\" cy=\"-18\" rx=\"70.69\" ry=\"18\"/>\n",
       "<text text-anchor=\"middle\" x=\"70.84\" y=\"-14.3\" font-family=\"Times,serif\" font-size=\"14.00\">AddFeatureTask</text>\n",
       "</g>\n",
       "<!-- CopyTask -->\n",
       "<g id=\"node2\" class=\"node\">\n",
       "<title>CopyTask</title>\n",
       "<ellipse fill=\"none\" stroke=\"black\" cx=\"225.13\" cy=\"-18\" rx=\"47.39\" ry=\"18\"/>\n",
       "<text text-anchor=\"middle\" x=\"225.13\" y=\"-14.3\" font-family=\"Times,serif\" font-size=\"14.00\">CopyTask</text>\n",
       "</g>\n",
       "<!-- AddFeatureTask&#45;&gt;CopyTask -->\n",
       "<g id=\"edge1\" class=\"edge\">\n",
       "<title>AddFeatureTask&#45;&gt;CopyTask</title>\n",
       "<path fill=\"none\" stroke=\"black\" d=\"M141.75,-18C150.22,-18 158.79,-18 167.04,-18\"/>\n",
       "<polygon fill=\"black\" stroke=\"black\" points=\"167.29,-21.5 177.29,-18 167.29,-14.5 167.29,-21.5\"/>\n",
       "</g>\n",
       "<!-- RenameFeatureTask -->\n",
       "<g id=\"node3\" class=\"node\">\n",
       "<title>RenameFeatureTask</title>\n",
       "<ellipse fill=\"none\" stroke=\"black\" cx=\"393.72\" cy=\"-18\" rx=\"85.29\" ry=\"18\"/>\n",
       "<text text-anchor=\"middle\" x=\"393.72\" y=\"-14.3\" font-family=\"Times,serif\" font-size=\"14.00\">RenameFeatureTask</text>\n",
       "</g>\n",
       "<!-- CopyTask&#45;&gt;RenameFeatureTask -->\n",
       "<g id=\"edge2\" class=\"edge\">\n",
       "<title>CopyTask&#45;&gt;RenameFeatureTask</title>\n",
       "<path fill=\"none\" stroke=\"black\" d=\"M272.98,-18C280.94,-18 289.44,-18 298.12,-18\"/>\n",
       "<polygon fill=\"black\" stroke=\"black\" points=\"298.35,-21.5 308.35,-18 298.35,-14.5 298.35,-21.5\"/>\n",
       "</g>\n",
       "</g>\n",
       "</svg>\n"
      ],
      "text/plain": [
       "<graphviz.graphs.Digraph at 0x12a4c0d90>"
      ]
     },
     "execution_count": 19,
     "metadata": {},
     "output_type": "execute_result"
    }
   ],
   "source": [
    "%matplotlib inline\n",
    "\n",
    "workflow.dependency_graph('graph.png')"
   ]
  },
  {
   "cell_type": "markdown",
   "metadata": {},
   "source": [
    "For a linear workflow such as previous one you can also use `LinearWorkflow` class"
   ]
  },
  {
   "cell_type": "code",
   "execution_count": 20,
   "metadata": {},
   "outputs": [
    {
     "data": {
      "image/svg+xml": [
       "<?xml version=\"1.0\" encoding=\"UTF-8\" standalone=\"no\"?>\n",
       "<!DOCTYPE svg PUBLIC \"-//W3C//DTD SVG 1.1//EN\"\n",
       " \"http://www.w3.org/Graphics/SVG/1.1/DTD/svg11.dtd\">\n",
       "<!-- Generated by graphviz version 2.49.3 (20211023.0002)\n",
       " -->\n",
       "<!-- Pages: 1 -->\n",
       "<svg width=\"487pt\" height=\"44pt\"\n",
       " viewBox=\"0.00 0.00 486.86 44.00\" xmlns=\"http://www.w3.org/2000/svg\" xmlns:xlink=\"http://www.w3.org/1999/xlink\">\n",
       "<g id=\"graph0\" class=\"graph\" transform=\"scale(1 1) rotate(0) translate(4 40)\">\n",
       "<polygon fill=\"white\" stroke=\"transparent\" points=\"-4,4 -4,-40 482.86,-40 482.86,4 -4,4\"/>\n",
       "<!-- AddFeatureTask -->\n",
       "<g id=\"node1\" class=\"node\">\n",
       "<title>AddFeatureTask</title>\n",
       "<ellipse fill=\"none\" stroke=\"black\" cx=\"70.84\" cy=\"-18\" rx=\"70.69\" ry=\"18\"/>\n",
       "<text text-anchor=\"middle\" x=\"70.84\" y=\"-14.3\" font-family=\"Times,serif\" font-size=\"14.00\">AddFeatureTask</text>\n",
       "</g>\n",
       "<!-- CopyTask -->\n",
       "<g id=\"node2\" class=\"node\">\n",
       "<title>CopyTask</title>\n",
       "<ellipse fill=\"none\" stroke=\"black\" cx=\"225.13\" cy=\"-18\" rx=\"47.39\" ry=\"18\"/>\n",
       "<text text-anchor=\"middle\" x=\"225.13\" y=\"-14.3\" font-family=\"Times,serif\" font-size=\"14.00\">CopyTask</text>\n",
       "</g>\n",
       "<!-- AddFeatureTask&#45;&gt;CopyTask -->\n",
       "<g id=\"edge1\" class=\"edge\">\n",
       "<title>AddFeatureTask&#45;&gt;CopyTask</title>\n",
       "<path fill=\"none\" stroke=\"black\" d=\"M141.75,-18C150.22,-18 158.79,-18 167.04,-18\"/>\n",
       "<polygon fill=\"black\" stroke=\"black\" points=\"167.29,-21.5 177.29,-18 167.29,-14.5 167.29,-21.5\"/>\n",
       "</g>\n",
       "<!-- RenameFeatureTask -->\n",
       "<g id=\"node3\" class=\"node\">\n",
       "<title>RenameFeatureTask</title>\n",
       "<ellipse fill=\"none\" stroke=\"black\" cx=\"393.72\" cy=\"-18\" rx=\"85.29\" ry=\"18\"/>\n",
       "<text text-anchor=\"middle\" x=\"393.72\" y=\"-14.3\" font-family=\"Times,serif\" font-size=\"14.00\">RenameFeatureTask</text>\n",
       "</g>\n",
       "<!-- CopyTask&#45;&gt;RenameFeatureTask -->\n",
       "<g id=\"edge2\" class=\"edge\">\n",
       "<title>CopyTask&#45;&gt;RenameFeatureTask</title>\n",
       "<path fill=\"none\" stroke=\"black\" d=\"M272.98,-18C280.94,-18 289.44,-18 298.12,-18\"/>\n",
       "<polygon fill=\"black\" stroke=\"black\" points=\"298.35,-21.5 308.35,-18 298.35,-14.5 298.35,-21.5\"/>\n",
       "</g>\n",
       "</g>\n",
       "</svg>\n"
      ],
      "text/plain": [
       "<graphviz.graphs.Digraph at 0x140408f40>"
      ]
     },
     "execution_count": 20,
     "metadata": {},
     "output_type": "execute_result"
    }
   ],
   "source": [
    "from eolearn.core import LinearWorkflow\n",
    "\n",
    "workflow = LinearWorkflow(add_feature, copy_task, rename_feature)\n",
    "\n",
    "result = workflow.execute({\n",
    "    add_feature: {'eopatch': patch,\n",
    "                  'data': new_bands}\n",
    "})\n",
    "                                    \n",
    "workflow.dependency_graph('graph.png')"
   ]
  },
  {
   "cell_type": "markdown",
   "metadata": {},
   "source": [
    "## EOExecutor\n",
    "\n",
    "`EOExecutor` handles execution and monitoring of workflows. It enables executing a workflow multiple times and in parallel. It monitors execution times and handles any error that might occur in the process. At the end it generates a report which contains summary of the workflow and process of execution.\n",
    "\n",
    "Execute previously defined workflow with different arguments"
   ]
  },
  {
   "cell_type": "code",
   "execution_count": 21,
   "metadata": {},
   "outputs": [
    {
     "data": {
      "application/vnd.jupyter.widget-view+json": {
       "model_id": "746e7e9a2efb4c91bfcde06cca5f1cbe",
       "version_major": 2,
       "version_minor": 0
      },
      "text/plain": [
       "  0%|          | 0/3 [00:00<?, ?it/s]"
      ]
     },
     "metadata": {},
     "output_type": "display_data"
    }
   ],
   "source": [
    "from eolearn.core import EOExecutor\n",
    "\n",
    "execution_args = [  # EOWorkflow will be executed for each of these 3 dictionaries:\n",
    "    {add_feature: {'eopatch': patch,\n",
    "                  'data': new_bands}},\n",
    "    {add_feature: {'eopatch': patch,\n",
    "                  'data': new_bands - 1}},\n",
    "    {add_feature: {'eopatch': patch,\n",
    "                  'data': new_bands * 10}},\n",
    "]\n",
    "\n",
    "executor = EOExecutor(workflow, execution_args, save_logs=True, logs_folder='.')\n",
    "\n",
    "executor.run(workers=3)  # The execution will use at most 3 parallel processes"
   ]
  },
  {
   "cell_type": "markdown",
   "metadata": {},
   "source": [
    "Make the report"
   ]
  },
  {
   "cell_type": "code",
   "execution_count": 22,
   "metadata": {},
   "outputs": [
    {
     "name": "stdout",
     "output_type": "stream",
     "text": [
      "Using matplotlib backend: <object object at 0x129a07be0>\n",
      "Report was saved to location: ./examples/core/eoexecution-report-2021_12_20-16_02_41/report.html\n"
     ]
    }
   ],
   "source": [
    "%matplotlib\n",
    "\n",
    "executor.make_report()\n",
    "\n",
    "print('Report was saved to location: {}'.format(executor.get_report_filename()))"
   ]
  },
  {
   "cell_type": "code",
   "execution_count": null,
   "metadata": {},
   "outputs": [],
   "source": []
  }
 ],
 "metadata": {
  "kernelspec": {
   "display_name": "Python 3 (ipykernel)",
   "language": "python",
   "name": "python3"
  },
  "language_info": {
   "codemirror_mode": {
    "name": "ipython",
    "version": 3
   },
   "file_extension": ".py",
   "mimetype": "text/x-python",
   "name": "python",
   "nbconvert_exporter": "python",
   "pygments_lexer": "ipython3",
   "version": "3.9.9"
  }
 },
 "nbformat": 4,
 "nbformat_minor": 4
}
